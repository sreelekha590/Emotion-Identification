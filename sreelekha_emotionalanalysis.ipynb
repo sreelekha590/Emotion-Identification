{
  "nbformat": 4,
  "nbformat_minor": 0,
  "metadata": {
    "colab": {
      "name": "sreelekha_emotionalanalysis.ipynb",
      "provenance": [],
      "collapsed_sections": []
    },
    "kernelspec": {
      "name": "python3",
      "display_name": "Python 3"
    },
    "language_info": {
      "name": "python"
    }
  },
  "cells": [
    {
      "cell_type": "markdown",
      "source": [
        "Speech Emotion Identification\n",
        "\n",
        "Done by:\n",
        "\n",
        "K Sai Sreelekha\n",
        "\n",
        "19251A0590\n",
        "\n",
        "GNITS"
      ],
      "metadata": {
        "id": "TveYzCV-a59L"
      }
    },
    {
      "cell_type": "markdown",
      "source": [
        "**Import required libraries**"
      ],
      "metadata": {
        "id": "7ggGNRFPb32U"
      }
    },
    {
      "cell_type": "code",
      "execution_count": 1,
      "metadata": {
        "id": "DMLPAgpCrP4i"
      },
      "outputs": [],
      "source": [
        "import librosa\n",
        "import soundfile\n",
        "import pandas as pd\n",
        "import os, glob, pickle\n",
        "import numpy as np\n",
        "from tqdm import tqdm\n",
        "from scipy.io import wavfile\n",
        "import matplotlib.pyplot as plt\n",
        "from sklearn.model_selection import train_test_split\n",
        "from sklearn.neural_network import MLPClassifier\n",
        "from sklearn.metrics import accuracy_score"
      ]
    },
    {
      "cell_type": "markdown",
      "source": [
        "**Mount the dataset file for importing the dataset**"
      ],
      "metadata": {
        "id": "OU3TWEveb-0F"
      }
    },
    {
      "cell_type": "code",
      "source": [
        "from google.colab import drive\n",
        "drive.mount('/content/drive')"
      ],
      "metadata": {
        "colab": {
          "base_uri": "https://localhost:8080/"
        },
        "id": "11NIwNS0rotj",
        "outputId": "67275375-9163-4dba-cf68-5a3fe9a80dd7"
      },
      "execution_count": 3,
      "outputs": [
        {
          "output_type": "stream",
          "name": "stdout",
          "text": [
            "Mounted at /content/drive\n"
          ]
        }
      ]
    },
    {
      "cell_type": "markdown",
      "source": [
        "**Loading the Dataset (Ravdess)**"
      ],
      "metadata": {
        "id": "98JSdX0xcbFw"
      }
    },
    {
      "cell_type": "code",
      "source": [
        "os.listdir(path='drive/MyDrive/dataset')\n",
        "def getListOfFiles(dirName):\n",
        "    listOfFile=os.listdir(dirName)\n",
        "    allFiles=list()\n",
        "    for entry in listOfFile:\n",
        "        fullPath=os.path.join(dirName, entry)\n",
        "        if os.path.isdir(fullPath):\n",
        "            allFiles=allFiles + getListOfFiles(fullPath)\n",
        "        else:\n",
        "            allFiles.append(fullPath)\n",
        "    return allFiles\n",
        "\n",
        "dirName = 'drive/MyDrive/dataset'\n",
        "listOfFiles = getListOfFiles(dirName)\n",
        "len(listOfFiles)"
      ],
      "metadata": {
        "colab": {
          "base_uri": "https://localhost:8080/"
        },
        "id": "QURoCT35rnU5",
        "outputId": "d7bb5d1b-e96d-4cb2-bdba-4b3c26d0b9f8"
      },
      "execution_count": 4,
      "outputs": [
        {
          "output_type": "execute_result",
          "data": {
            "text/plain": [
              "1569"
            ]
          },
          "metadata": {},
          "execution_count": 4
        }
      ]
    },
    {
      "cell_type": "markdown",
      "source": [
        "**Cleaning the dataset**"
      ],
      "metadata": {
        "id": "Ke0JQi0PcmBB"
      }
    },
    {
      "cell_type": "markdown",
      "source": [
        "DOWN SAMPLING OF AUDIO FILES IS DONE AND PUT MASK OVER IT AND DIRECT INTO CLEAN FOLDER\n",
        "MASK IS TO REMOVE UNNECESSARY EMPTY VOIDES AROUND THE MAIN AUDIO VOICE"
      ],
      "metadata": {
        "id": "7nIcK2i_c_By"
      }
    },
    {
      "cell_type": "code",
      "source": [
        "def envelope(y , rate, threshold):\n",
        "    mask=[]\n",
        "    y=pd.Series(y).apply(np.abs)\n",
        "    y_mean = y.rolling(window=int(rate/10) ,  min_periods=1 , center = True).mean()\n",
        "    for mean in y_mean:\n",
        "        if mean>threshold:\n",
        "            mask.append(True)\n",
        "        else:\n",
        "            mask.append(False)\n",
        "    return mask"
      ],
      "metadata": {
        "id": "BYfXfcgTr9LY"
      },
      "execution_count": 5,
      "outputs": []
    },
    {
      "cell_type": "markdown",
      "source": [
        "**Extract features (mfcc, chroma, mel) from a sound file**"
      ],
      "metadata": {
        "id": "lqRVOLG5dEBh"
      }
    },
    {
      "cell_type": "code",
      "source": [
        "def extract_feature(file_name, mfcc, chroma, mel):\n",
        "    with soundfile.SoundFile(file_name) as sound_file:\n",
        "        X = sound_file.read(dtype=\"float32\")\n",
        "        sample_rate=sound_file.samplerate\n",
        "        if chroma:\n",
        "            stft=np.abs(librosa.stft(X))\n",
        "        result=np.array([])\n",
        "        if mfcc:\n",
        "            mfccs=np.mean(librosa.feature.mfcc(y=X, sr=sample_rate, n_mfcc=40).T, axis=0)\n",
        "        result=np.hstack((result, mfccs))\n",
        "        if chroma:\n",
        "            chroma=np.mean(librosa.feature.chroma_stft(S=stft, sr=sample_rate).T,axis=0)\n",
        "        result=np.hstack((result, chroma))\n",
        "        if mel:\n",
        "            mel=np.mean(librosa.feature.melspectrogram(X, sr=sample_rate).T,axis=0)\n",
        "        result=np.hstack((result, mel))\n",
        "    return result"
      ],
      "metadata": {
        "id": "SLBhJUOdsfMx"
      },
      "execution_count": 6,
      "outputs": []
    },
    {
      "cell_type": "markdown",
      "source": [
        "Emotions in the dataset"
      ],
      "metadata": {
        "id": "GzzUYDvadLZ7"
      }
    },
    {
      "cell_type": "code",
      "source": [
        "emotions={\n",
        "  '01':'neutral',\n",
        "  '02':'calm',\n",
        "  '03':'happy',\n",
        "  '04':'sad',\n",
        "  '05':'angry',\n",
        "  '06':'fearful',\n",
        "  '07':'disgust',\n",
        "  '08':'surprised'\n",
        "}\n",
        "#These are the emotions User wants to observe more :\n",
        "observed_emotions=['calm', 'happy', 'angry', 'disgust']"
      ],
      "metadata": {
        "id": "m9wM3yzpsnd0"
      },
      "execution_count": 7,
      "outputs": []
    },
    {
      "cell_type": "markdown",
      "source": [
        " **Loading the clean data and extracting the data from it**"
      ],
      "metadata": {
        "id": "9iac6IwUdQIQ"
      }
    },
    {
      "cell_type": "code",
      "source": [
        "from glob import glob\n",
        "import os\n",
        "import glob\n",
        "def load_data(test_size=0.33):\n",
        "    x,y=[],[]\n",
        "    answer = 0\n",
        "    for file in glob.glob('drive/MyDrive/dataset//Actor_*//*.wav'):\n",
        "        file_name=os.path.basename(file)\n",
        "        emotion=emotions[file_name.split(\"-\")[2]]\n",
        "        if emotion not in observed_emotions:\n",
        "            answer += 1\n",
        "            continue\n",
        "        feature=extract_feature(file, mfcc=True, chroma=True, mel=True)\n",
        "        x.append(feature)\n",
        "        y.append([emotion,file_name])\n",
        "    return train_test_split(np.array(x), y, test_size=test_size, random_state=0)"
      ],
      "metadata": {
        "id": "zRtRosffssdA"
      },
      "execution_count": 8,
      "outputs": []
    },
    {
      "cell_type": "markdown",
      "source": [
        "**Splitting the dataset into test and trial data**"
      ],
      "metadata": {
        "id": "7Jji0F5ZdbGZ"
      }
    },
    {
      "cell_type": "code",
      "source": [
        "x_train,x_test,y_train,y_test=load_data(test_size=0.25)\n",
        "print(np.shape(x_train),np.shape(x_test), np.shape(y_train),np.shape(y_test))\n",
        "y_test_map = np.array(y_test).T\n",
        "y_test = y_test_map[0]\n",
        "test_filename = y_test_map[1]\n",
        "y_train_map = np.array(y_train).T\n",
        "y_train = y_train_map[0]\n",
        "train_filename = y_train_map[1]\n",
        "print(np.shape(y_train),np.shape(y_test))\n",
        "print(*test_filename,sep=\"\\n\")"
      ],
      "metadata": {
        "colab": {
          "base_uri": "https://localhost:8080/"
        },
        "id": "clhkc5fOs3rl",
        "outputId": "1df64daa-5101-4ecb-8c1f-02c74c14d2d2"
      },
      "execution_count": 9,
      "outputs": [
        {
          "output_type": "stream",
          "name": "stdout",
          "text": [
            "(576, 180) (192, 180) (576, 2) (192, 2)\n",
            "(576,) (192,)\n",
            "03-01-03-01-01-01-01.wav\n",
            "03-01-07-01-02-01-22.wav\n",
            "03-01-02-01-02-02-22.wav\n",
            "03-01-05-01-02-02-19.wav\n",
            "03-01-07-01-02-01-05.wav\n",
            "03-01-05-01-02-02-22.wav\n",
            "03-01-03-01-02-01-14.wav\n",
            "03-01-07-02-02-02-06.wav\n",
            "03-01-03-02-01-01-11.wav\n",
            "03-01-07-01-02-01-21.wav\n",
            "03-01-07-02-01-02-19.wav\n",
            "03-01-03-01-01-01-12.wav\n",
            "03-01-07-01-01-01-23.wav\n",
            "03-01-05-01-01-02-06.wav\n",
            "03-01-02-02-01-02-03.wav\n",
            "03-01-07-02-01-02-21.wav\n",
            "03-01-03-02-01-02-17.wav\n",
            "03-01-05-02-02-01-18.wav\n",
            "03-01-05-01-01-02-07.wav\n",
            "03-01-07-01-01-02-13.wav\n",
            "03-01-02-02-01-02-08.wav\n",
            "03-01-02-01-02-01-06.wav\n",
            "03-01-02-02-01-02-17.wav\n",
            "03-01-07-02-02-01-13.wav\n",
            "03-01-07-01-02-01-19.wav\n",
            "03-01-02-02-02-02-06.wav\n",
            "03-01-02-02-01-01-15.wav\n",
            "03-01-02-01-02-02-03.wav\n",
            "03-01-02-01-02-02-24.wav\n",
            "03-01-03-01-01-02-10.wav\n",
            "03-01-07-02-02-01-23.wav\n",
            "03-01-02-02-02-01-08.wav\n",
            "03-01-05-01-02-02-01.wav\n",
            "03-01-07-02-01-01-13.wav\n",
            "03-01-05-01-01-01-11.wav\n",
            "03-01-02-01-02-02-11.wav\n",
            "03-01-02-01-01-01-01.wav\n",
            "03-01-07-01-02-02-10.wav\n",
            "03-01-07-01-02-01-12.wav\n",
            "03-01-02-02-01-01-18.wav\n",
            "03-01-07-02-02-02-17.wav\n",
            "03-01-03-02-02-01-13.wav\n",
            "03-01-05-01-01-02-12.wav\n",
            "03-01-03-01-02-01-11.wav\n",
            "03-01-02-01-01-01-19.wav\n",
            "03-01-03-02-02-01-20.wav\n",
            "03-01-05-02-02-01-23.wav\n",
            "03-01-02-01-02-02-08.wav\n",
            "03-01-07-02-01-01-21.wav\n",
            "03-01-02-02-01-01-02.wav\n",
            "03-01-02-01-01-01-06.wav\n",
            "03-01-05-01-02-02-20.wav\n",
            "03-01-05-02-02-02-21.wav\n",
            "03-01-05-02-02-01-03.wav\n",
            "03-01-03-01-01-01-07.wav\n",
            "03-01-03-02-01-01-24.wav\n",
            "03-01-03-01-02-02-19.wav\n",
            "03-01-07-02-02-02-16.wav\n",
            "03-01-05-02-02-01-07.wav\n",
            "03-01-02-02-02-02-04.wav\n",
            "03-01-05-02-02-02-01.wav\n",
            "03-01-07-02-01-02-13.wav\n",
            "03-01-05-01-01-01-09.wav\n",
            "03-01-03-01-01-02-23.wav\n",
            "03-01-05-01-01-02-16.wav\n",
            "03-01-07-02-02-01-11.wav\n",
            "03-01-07-01-02-02-13.wav\n",
            "03-01-03-01-01-01-23.wav\n",
            "03-01-03-01-01-01-15.wav\n",
            "03-01-05-01-02-02-11.wav\n",
            "03-01-05-02-01-02-09.wav\n",
            "03-01-05-02-02-01-21.wav\n",
            "03-01-05-02-01-02-15.wav\n",
            "03-01-02-01-02-02-09.wav\n",
            "03-01-02-02-01-02-15.wav\n",
            "03-01-07-02-01-02-14.wav\n",
            "03-01-05-02-01-02-02.wav\n",
            "03-01-07-01-01-01-10.wav\n",
            "03-01-05-01-02-02-04.wav\n",
            "03-01-02-01-01-01-12.wav\n",
            "03-01-03-02-01-02-06.wav\n",
            "03-01-05-02-02-01-20.wav\n",
            "03-01-07-01-02-02-24.wav\n",
            "03-01-05-02-01-02-05.wav\n",
            "03-01-05-02-02-01-04.wav\n",
            "03-01-03-02-02-02-14.wav\n",
            "03-01-03-02-02-01-15.wav\n",
            "03-01-02-01-01-02-19.wav\n",
            "03-01-03-01-02-02-15.wav\n",
            "03-01-02-02-01-02-09.wav\n",
            "03-01-07-01-01-02-06.wav\n",
            "03-01-03-01-02-01-15.wav\n",
            "03-01-07-01-01-01-16.wav\n",
            "03-01-05-02-01-01-18.wav\n",
            "03-01-05-02-02-02-12.wav\n",
            "03-01-07-01-02-02-12.wav\n",
            "03-01-05-01-01-02-09.wav\n",
            "03-01-02-01-01-02-09.wav\n",
            "03-01-05-01-01-02-18.wav\n",
            "03-01-02-02-01-01-11.wav\n",
            "03-01-02-01-02-01-17.wav\n",
            "03-01-02-01-02-01-20.wav\n",
            "03-01-03-02-02-02-19.wav\n",
            "03-01-02-02-01-01-24.wav\n",
            "03-01-07-02-01-02-23.wav\n",
            "03-01-03-01-01-01-08.wav\n",
            "03-01-02-02-02-01-03.wav\n",
            "03-01-07-01-01-01-07.wav\n",
            "03-01-07-01-02-01-16.wav\n",
            "03-01-05-02-01-02-19.wav\n",
            "03-01-07-02-02-01-03.wav\n",
            "03-01-03-01-01-02-21.wav\n",
            "03-01-03-02-02-02-06.wav\n",
            "03-01-05-02-01-02-17.wav\n",
            "03-01-07-02-01-01-11.wav\n",
            "03-01-07-02-01-01-23.wav\n",
            "03-01-05-02-01-01-23.wav\n",
            "03-01-02-01-01-02-23.wav\n",
            "03-01-02-01-02-02-15.wav\n",
            "03-01-03-02-02-02-03.wav\n",
            "03-01-07-02-01-01-04.wav\n",
            "03-01-05-01-01-01-13.wav\n",
            "03-01-07-02-02-01-16.wav\n",
            "03-01-02-01-02-02-06.wav\n",
            "03-01-07-01-02-02-11.wav\n",
            "03-01-05-01-01-01-02.wav\n",
            "03-01-07-02-01-02-02.wav\n",
            "03-01-03-02-02-01-11.wav\n",
            "03-01-03-02-02-01-07.wav\n",
            "03-01-07-02-02-01-04.wav\n",
            "03-01-02-02-01-02-24.wav\n",
            "03-01-03-01-02-02-18.wav\n",
            "03-01-02-01-02-02-21.wav\n",
            "03-01-07-01-02-01-11.wav\n",
            "03-01-05-02-01-02-10.wav\n",
            "03-01-02-02-01-02-18.wav\n",
            "03-01-05-02-01-01-02.wav\n",
            "03-01-05-01-02-01-18.wav\n",
            "03-01-02-02-02-01-23.wav\n",
            "03-01-02-01-01-02-01.wav\n",
            "03-01-03-01-02-02-14.wav\n",
            "03-01-02-01-01-02-12.wav\n",
            "03-01-02-01-02-01-21.wav\n",
            "03-01-03-01-02-01-24.wav\n",
            "03-01-02-02-02-02-24.wav\n",
            "03-01-07-01-01-01-01.wav\n",
            "03-01-05-01-01-01-18.wav\n",
            "03-01-03-01-02-02-16.wav\n",
            "03-01-02-01-01-01-08.wav\n",
            "03-01-05-01-01-01-07.wav\n",
            "03-01-03-02-01-01-10.wav\n",
            "03-01-05-01-02-01-15.wav\n",
            "03-01-05-02-01-01-05.wav\n",
            "03-01-03-01-01-01-13.wav\n",
            "03-01-07-02-01-01-06.wav\n",
            "03-01-03-01-01-01-22.wav\n",
            "03-01-07-01-02-02-15.wav\n",
            "03-01-02-02-01-01-20.wav\n",
            "03-01-05-01-02-02-07.wav\n",
            "03-01-02-02-01-01-21.wav\n",
            "03-01-03-02-02-01-16.wav\n",
            "03-01-05-02-01-02-16.wav\n",
            "03-01-07-02-02-02-22.wav\n",
            "03-01-05-01-01-01-05.wav\n",
            "03-01-05-01-02-01-14.wav\n",
            "03-01-03-02-02-01-09.wav\n",
            "03-01-02-01-02-01-05.wav\n",
            "03-01-07-02-02-02-09.wav\n",
            "03-01-03-01-02-01-05.wav\n",
            "03-01-05-01-02-01-05.wav\n",
            "03-01-05-01-02-01-06.wav\n",
            "03-01-02-02-01-02-07.wav\n",
            "03-01-03-02-01-02-19.wav\n",
            "03-01-02-02-01-01-03.wav\n",
            "03-01-07-01-01-02-23.wav\n",
            "03-01-05-02-02-01-15.wav\n",
            "03-01-07-01-01-02-14.wav\n",
            "03-01-07-01-01-02-16.wav\n",
            "03-01-02-02-02-01-04.wav\n",
            "03-01-05-02-02-02-15.wav\n",
            "03-01-02-02-02-01-17.wav\n",
            "03-01-02-02-01-02-02.wav\n",
            "03-01-03-02-01-02-10.wav\n",
            "03-01-02-02-02-01-18.wav\n",
            "03-01-02-01-01-01-03.wav\n",
            "03-01-05-02-01-02-18.wav\n",
            "03-01-02-02-02-01-24.wav\n",
            "03-01-02-02-02-02-13.wav\n",
            "03-01-05-01-01-01-16.wav\n",
            "03-01-05-01-01-02-13.wav\n",
            "03-01-03-02-01-02-20.wav\n",
            "03-01-03-01-01-02-07.wav\n"
          ]
        }
      ]
    },
    {
      "cell_type": "markdown",
      "source": [
        "**Initialize the Multi Layer Perceptron Classifier**"
      ],
      "metadata": {
        "id": "RWbanWZmdkZV"
      }
    },
    {
      "cell_type": "code",
      "source": [
        "model=MLPClassifier(alpha=0.01, batch_size=256, epsilon=1e-08, hidden_layer_sizes=(300,), learning_rate='adaptive', max_iter=500)"
      ],
      "metadata": {
        "id": "2j98A8oltwZJ"
      },
      "execution_count": 10,
      "outputs": []
    },
    {
      "cell_type": "markdown",
      "source": [
        "**Train the model**"
      ],
      "metadata": {
        "id": "Thpu8hqudol_"
      }
    },
    {
      "cell_type": "code",
      "source": [
        "model.fit(x_train,y_train)"
      ],
      "metadata": {
        "colab": {
          "base_uri": "https://localhost:8080/"
        },
        "id": "2tFNixVzt44z",
        "outputId": "6772cf58-8f1c-46ca-94a2-8acd5293c7de"
      },
      "execution_count": 11,
      "outputs": [
        {
          "output_type": "execute_result",
          "data": {
            "text/plain": [
              "MLPClassifier(alpha=0.01, batch_size=256, hidden_layer_sizes=(300,),\n",
              "              learning_rate='adaptive', max_iter=500)"
            ]
          },
          "metadata": {},
          "execution_count": 11
        }
      ]
    },
    {
      "cell_type": "markdown",
      "source": [
        "**Predicting the y_test values using the loaded Model**"
      ],
      "metadata": {
        "id": "hXNjIaBUdxai"
      }
    },
    {
      "cell_type": "code",
      "source": [
        "y_pred = model.predict(x_test)\n",
        "accuracy = accuracy_score(y_true=y_test, y_pred=y_pred)\n",
        "print(\"Accuracy of the Recognizer is: {:.1f}%\".format(accuracy*100))\n"
      ],
      "metadata": {
        "colab": {
          "base_uri": "https://localhost:8080/"
        },
        "id": "jgyi9VobvT7Y",
        "outputId": "48ee3fd8-654a-4261-fbf9-42e2e785f04c"
      },
      "execution_count": 12,
      "outputs": [
        {
          "output_type": "stream",
          "name": "stdout",
          "text": [
            "Accuracy of the Recognizer is: 64.6%\n"
          ]
        }
      ]
    },
    {
      "cell_type": "markdown",
      "source": [
        "**Saving the predictions in a .csv file**"
      ],
      "metadata": {
        "id": "kKmHhX6ld5AY"
      }
    },
    {
      "cell_type": "code",
      "source": [
        "import pandas as pd\n",
        "y_pred1 = pd.DataFrame(y_pred , columns=['Predictions'])\n",
        "y_pred1['Name of Files'] = test_filename\n",
        "print(y_pred1)\n",
        "y_pred1.to_csv('FinalPredictions.csv')"
      ],
      "metadata": {
        "colab": {
          "base_uri": "https://localhost:8080/"
        },
        "id": "ldF_yJEHvb2e",
        "outputId": "48036fcf-a49f-4d87-fc95-94b4dca64cc0"
      },
      "execution_count": 13,
      "outputs": [
        {
          "output_type": "stream",
          "name": "stdout",
          "text": [
            "    Predictions             Name of Files\n",
            "0         happy  03-01-03-01-01-01-01.wav\n",
            "1         happy  03-01-07-01-02-01-22.wav\n",
            "2          calm  03-01-02-01-02-02-22.wav\n",
            "3         happy  03-01-05-01-02-02-19.wav\n",
            "4          calm  03-01-07-01-02-01-05.wav\n",
            "..          ...                       ...\n",
            "187       happy  03-01-02-02-02-02-13.wav\n",
            "188       angry  03-01-05-01-01-01-16.wav\n",
            "189       happy  03-01-05-01-01-02-13.wav\n",
            "190       happy  03-01-03-02-01-02-20.wav\n",
            "191       happy  03-01-03-01-01-02-07.wav\n",
            "\n",
            "[192 rows x 2 columns]\n"
          ]
        }
      ]
    },
    {
      "cell_type": "code",
      "source": [
        "y_pred1[:10]"
      ],
      "metadata": {
        "colab": {
          "base_uri": "https://localhost:8080/",
          "height": 363
        },
        "id": "Q6xR3VnxvfVA",
        "outputId": "e5f05a12-f380-40b7-90d0-e312f346e099"
      },
      "execution_count": 16,
      "outputs": [
        {
          "output_type": "execute_result",
          "data": {
            "text/plain": [
              "  Predictions             Name of Files\n",
              "0       happy  03-01-03-01-01-01-01.wav\n",
              "1       happy  03-01-07-01-02-01-22.wav\n",
              "2        calm  03-01-02-01-02-02-22.wav\n",
              "3       happy  03-01-05-01-02-02-19.wav\n",
              "4        calm  03-01-07-01-02-01-05.wav\n",
              "5       happy  03-01-05-01-02-02-22.wav\n",
              "6       happy  03-01-03-01-02-01-14.wav\n",
              "7     disgust  03-01-07-02-02-02-06.wav\n",
              "8       happy  03-01-03-02-01-01-11.wav\n",
              "9     disgust  03-01-07-01-02-01-21.wav"
            ],
            "text/html": [
              "\n",
              "  <div id=\"df-337ecf1a-6fdd-456a-a1c5-8c232994d424\">\n",
              "    <div class=\"colab-df-container\">\n",
              "      <div>\n",
              "<style scoped>\n",
              "    .dataframe tbody tr th:only-of-type {\n",
              "        vertical-align: middle;\n",
              "    }\n",
              "\n",
              "    .dataframe tbody tr th {\n",
              "        vertical-align: top;\n",
              "    }\n",
              "\n",
              "    .dataframe thead th {\n",
              "        text-align: right;\n",
              "    }\n",
              "</style>\n",
              "<table border=\"1\" class=\"dataframe\">\n",
              "  <thead>\n",
              "    <tr style=\"text-align: right;\">\n",
              "      <th></th>\n",
              "      <th>Predictions</th>\n",
              "      <th>Name of Files</th>\n",
              "    </tr>\n",
              "  </thead>\n",
              "  <tbody>\n",
              "    <tr>\n",
              "      <th>0</th>\n",
              "      <td>happy</td>\n",
              "      <td>03-01-03-01-01-01-01.wav</td>\n",
              "    </tr>\n",
              "    <tr>\n",
              "      <th>1</th>\n",
              "      <td>happy</td>\n",
              "      <td>03-01-07-01-02-01-22.wav</td>\n",
              "    </tr>\n",
              "    <tr>\n",
              "      <th>2</th>\n",
              "      <td>calm</td>\n",
              "      <td>03-01-02-01-02-02-22.wav</td>\n",
              "    </tr>\n",
              "    <tr>\n",
              "      <th>3</th>\n",
              "      <td>happy</td>\n",
              "      <td>03-01-05-01-02-02-19.wav</td>\n",
              "    </tr>\n",
              "    <tr>\n",
              "      <th>4</th>\n",
              "      <td>calm</td>\n",
              "      <td>03-01-07-01-02-01-05.wav</td>\n",
              "    </tr>\n",
              "    <tr>\n",
              "      <th>5</th>\n",
              "      <td>happy</td>\n",
              "      <td>03-01-05-01-02-02-22.wav</td>\n",
              "    </tr>\n",
              "    <tr>\n",
              "      <th>6</th>\n",
              "      <td>happy</td>\n",
              "      <td>03-01-03-01-02-01-14.wav</td>\n",
              "    </tr>\n",
              "    <tr>\n",
              "      <th>7</th>\n",
              "      <td>disgust</td>\n",
              "      <td>03-01-07-02-02-02-06.wav</td>\n",
              "    </tr>\n",
              "    <tr>\n",
              "      <th>8</th>\n",
              "      <td>happy</td>\n",
              "      <td>03-01-03-02-01-01-11.wav</td>\n",
              "    </tr>\n",
              "    <tr>\n",
              "      <th>9</th>\n",
              "      <td>disgust</td>\n",
              "      <td>03-01-07-01-02-01-21.wav</td>\n",
              "    </tr>\n",
              "  </tbody>\n",
              "</table>\n",
              "</div>\n",
              "      <button class=\"colab-df-convert\" onclick=\"convertToInteractive('df-337ecf1a-6fdd-456a-a1c5-8c232994d424')\"\n",
              "              title=\"Convert this dataframe to an interactive table.\"\n",
              "              style=\"display:none;\">\n",
              "        \n",
              "  <svg xmlns=\"http://www.w3.org/2000/svg\" height=\"24px\"viewBox=\"0 0 24 24\"\n",
              "       width=\"24px\">\n",
              "    <path d=\"M0 0h24v24H0V0z\" fill=\"none\"/>\n",
              "    <path d=\"M18.56 5.44l.94 2.06.94-2.06 2.06-.94-2.06-.94-.94-2.06-.94 2.06-2.06.94zm-11 1L8.5 8.5l.94-2.06 2.06-.94-2.06-.94L8.5 2.5l-.94 2.06-2.06.94zm10 10l.94 2.06.94-2.06 2.06-.94-2.06-.94-.94-2.06-.94 2.06-2.06.94z\"/><path d=\"M17.41 7.96l-1.37-1.37c-.4-.4-.92-.59-1.43-.59-.52 0-1.04.2-1.43.59L10.3 9.45l-7.72 7.72c-.78.78-.78 2.05 0 2.83L4 21.41c.39.39.9.59 1.41.59.51 0 1.02-.2 1.41-.59l7.78-7.78 2.81-2.81c.8-.78.8-2.07 0-2.86zM5.41 20L4 18.59l7.72-7.72 1.47 1.35L5.41 20z\"/>\n",
              "  </svg>\n",
              "      </button>\n",
              "      \n",
              "  <style>\n",
              "    .colab-df-container {\n",
              "      display:flex;\n",
              "      flex-wrap:wrap;\n",
              "      gap: 12px;\n",
              "    }\n",
              "\n",
              "    .colab-df-convert {\n",
              "      background-color: #E8F0FE;\n",
              "      border: none;\n",
              "      border-radius: 50%;\n",
              "      cursor: pointer;\n",
              "      display: none;\n",
              "      fill: #1967D2;\n",
              "      height: 32px;\n",
              "      padding: 0 0 0 0;\n",
              "      width: 32px;\n",
              "    }\n",
              "\n",
              "    .colab-df-convert:hover {\n",
              "      background-color: #E2EBFA;\n",
              "      box-shadow: 0px 1px 2px rgba(60, 64, 67, 0.3), 0px 1px 3px 1px rgba(60, 64, 67, 0.15);\n",
              "      fill: #174EA6;\n",
              "    }\n",
              "\n",
              "    [theme=dark] .colab-df-convert {\n",
              "      background-color: #3B4455;\n",
              "      fill: #D2E3FC;\n",
              "    }\n",
              "\n",
              "    [theme=dark] .colab-df-convert:hover {\n",
              "      background-color: #434B5C;\n",
              "      box-shadow: 0px 1px 3px 1px rgba(0, 0, 0, 0.15);\n",
              "      filter: drop-shadow(0px 1px 2px rgba(0, 0, 0, 0.3));\n",
              "      fill: #FFFFFF;\n",
              "    }\n",
              "  </style>\n",
              "\n",
              "      <script>\n",
              "        const buttonEl =\n",
              "          document.querySelector('#df-337ecf1a-6fdd-456a-a1c5-8c232994d424 button.colab-df-convert');\n",
              "        buttonEl.style.display =\n",
              "          google.colab.kernel.accessAllowed ? 'block' : 'none';\n",
              "\n",
              "        async function convertToInteractive(key) {\n",
              "          const element = document.querySelector('#df-337ecf1a-6fdd-456a-a1c5-8c232994d424');\n",
              "          const dataTable =\n",
              "            await google.colab.kernel.invokeFunction('convertToInteractive',\n",
              "                                                     [key], {});\n",
              "          if (!dataTable) return;\n",
              "\n",
              "          const docLinkHtml = 'Like what you see? Visit the ' +\n",
              "            '<a target=\"_blank\" href=https://colab.research.google.com/notebooks/data_table.ipynb>data table notebook</a>'\n",
              "            + ' to learn more about interactive tables.';\n",
              "          element.innerHTML = '';\n",
              "          dataTable['output_type'] = 'display_data';\n",
              "          await google.colab.output.renderOutput(dataTable, element);\n",
              "          const docLink = document.createElement('div');\n",
              "          docLink.innerHTML = docLinkHtml;\n",
              "          element.appendChild(docLink);\n",
              "        }\n",
              "      </script>\n",
              "    </div>\n",
              "  </div>\n",
              "  "
            ]
          },
          "metadata": {},
          "execution_count": 16
        }
      ]
    },
    {
      "cell_type": "code",
      "source": [
        "from sklearn.metrics import f1_score"
      ],
      "metadata": {
        "id": "OUDv2fF2x9QC"
      },
      "execution_count": 15,
      "outputs": []
    },
    {
      "cell_type": "code",
      "source": [
        "f1_score(y_test, y_pred,average=None)"
      ],
      "metadata": {
        "colab": {
          "base_uri": "https://localhost:8080/"
        },
        "id": "QrdS7RqUyEDe",
        "outputId": "4ba068f6-5ec1-4b55-8faf-c5e5f6ebc8d3"
      },
      "execution_count": 17,
      "outputs": [
        {
          "output_type": "execute_result",
          "data": {
            "text/plain": [
              "array([0.69767442, 0.74074074, 0.52307692, 0.592     ])"
            ]
          },
          "metadata": {},
          "execution_count": 17
        }
      ]
    },
    {
      "cell_type": "code",
      "source": [
        "df=pd.DataFrame({'Actual': y_test, 'Predicted':y_pred})\n",
        "df.head(20)"
      ],
      "metadata": {
        "colab": {
          "base_uri": "https://localhost:8080/",
          "height": 677
        },
        "id": "9X_jV9BLyHXZ",
        "outputId": "9bd76ae3-e907-4768-d2a3-cbb4673d3af3"
      },
      "execution_count": 18,
      "outputs": [
        {
          "output_type": "execute_result",
          "data": {
            "text/plain": [
              "     Actual Predicted\n",
              "0     happy     happy\n",
              "1   disgust     happy\n",
              "2      calm      calm\n",
              "3     angry     happy\n",
              "4   disgust      calm\n",
              "5     angry     happy\n",
              "6     happy     happy\n",
              "7   disgust   disgust\n",
              "8     happy     happy\n",
              "9   disgust   disgust\n",
              "10  disgust     angry\n",
              "11    happy     happy\n",
              "12  disgust     happy\n",
              "13    angry     happy\n",
              "14     calm     happy\n",
              "15  disgust     angry\n",
              "16    happy     happy\n",
              "17    angry     angry\n",
              "18    angry     angry\n",
              "19  disgust     happy"
            ],
            "text/html": [
              "\n",
              "  <div id=\"df-3170123e-526d-4df8-b228-0ae8cfc21012\">\n",
              "    <div class=\"colab-df-container\">\n",
              "      <div>\n",
              "<style scoped>\n",
              "    .dataframe tbody tr th:only-of-type {\n",
              "        vertical-align: middle;\n",
              "    }\n",
              "\n",
              "    .dataframe tbody tr th {\n",
              "        vertical-align: top;\n",
              "    }\n",
              "\n",
              "    .dataframe thead th {\n",
              "        text-align: right;\n",
              "    }\n",
              "</style>\n",
              "<table border=\"1\" class=\"dataframe\">\n",
              "  <thead>\n",
              "    <tr style=\"text-align: right;\">\n",
              "      <th></th>\n",
              "      <th>Actual</th>\n",
              "      <th>Predicted</th>\n",
              "    </tr>\n",
              "  </thead>\n",
              "  <tbody>\n",
              "    <tr>\n",
              "      <th>0</th>\n",
              "      <td>happy</td>\n",
              "      <td>happy</td>\n",
              "    </tr>\n",
              "    <tr>\n",
              "      <th>1</th>\n",
              "      <td>disgust</td>\n",
              "      <td>happy</td>\n",
              "    </tr>\n",
              "    <tr>\n",
              "      <th>2</th>\n",
              "      <td>calm</td>\n",
              "      <td>calm</td>\n",
              "    </tr>\n",
              "    <tr>\n",
              "      <th>3</th>\n",
              "      <td>angry</td>\n",
              "      <td>happy</td>\n",
              "    </tr>\n",
              "    <tr>\n",
              "      <th>4</th>\n",
              "      <td>disgust</td>\n",
              "      <td>calm</td>\n",
              "    </tr>\n",
              "    <tr>\n",
              "      <th>5</th>\n",
              "      <td>angry</td>\n",
              "      <td>happy</td>\n",
              "    </tr>\n",
              "    <tr>\n",
              "      <th>6</th>\n",
              "      <td>happy</td>\n",
              "      <td>happy</td>\n",
              "    </tr>\n",
              "    <tr>\n",
              "      <th>7</th>\n",
              "      <td>disgust</td>\n",
              "      <td>disgust</td>\n",
              "    </tr>\n",
              "    <tr>\n",
              "      <th>8</th>\n",
              "      <td>happy</td>\n",
              "      <td>happy</td>\n",
              "    </tr>\n",
              "    <tr>\n",
              "      <th>9</th>\n",
              "      <td>disgust</td>\n",
              "      <td>disgust</td>\n",
              "    </tr>\n",
              "    <tr>\n",
              "      <th>10</th>\n",
              "      <td>disgust</td>\n",
              "      <td>angry</td>\n",
              "    </tr>\n",
              "    <tr>\n",
              "      <th>11</th>\n",
              "      <td>happy</td>\n",
              "      <td>happy</td>\n",
              "    </tr>\n",
              "    <tr>\n",
              "      <th>12</th>\n",
              "      <td>disgust</td>\n",
              "      <td>happy</td>\n",
              "    </tr>\n",
              "    <tr>\n",
              "      <th>13</th>\n",
              "      <td>angry</td>\n",
              "      <td>happy</td>\n",
              "    </tr>\n",
              "    <tr>\n",
              "      <th>14</th>\n",
              "      <td>calm</td>\n",
              "      <td>happy</td>\n",
              "    </tr>\n",
              "    <tr>\n",
              "      <th>15</th>\n",
              "      <td>disgust</td>\n",
              "      <td>angry</td>\n",
              "    </tr>\n",
              "    <tr>\n",
              "      <th>16</th>\n",
              "      <td>happy</td>\n",
              "      <td>happy</td>\n",
              "    </tr>\n",
              "    <tr>\n",
              "      <th>17</th>\n",
              "      <td>angry</td>\n",
              "      <td>angry</td>\n",
              "    </tr>\n",
              "    <tr>\n",
              "      <th>18</th>\n",
              "      <td>angry</td>\n",
              "      <td>angry</td>\n",
              "    </tr>\n",
              "    <tr>\n",
              "      <th>19</th>\n",
              "      <td>disgust</td>\n",
              "      <td>happy</td>\n",
              "    </tr>\n",
              "  </tbody>\n",
              "</table>\n",
              "</div>\n",
              "      <button class=\"colab-df-convert\" onclick=\"convertToInteractive('df-3170123e-526d-4df8-b228-0ae8cfc21012')\"\n",
              "              title=\"Convert this dataframe to an interactive table.\"\n",
              "              style=\"display:none;\">\n",
              "        \n",
              "  <svg xmlns=\"http://www.w3.org/2000/svg\" height=\"24px\"viewBox=\"0 0 24 24\"\n",
              "       width=\"24px\">\n",
              "    <path d=\"M0 0h24v24H0V0z\" fill=\"none\"/>\n",
              "    <path d=\"M18.56 5.44l.94 2.06.94-2.06 2.06-.94-2.06-.94-.94-2.06-.94 2.06-2.06.94zm-11 1L8.5 8.5l.94-2.06 2.06-.94-2.06-.94L8.5 2.5l-.94 2.06-2.06.94zm10 10l.94 2.06.94-2.06 2.06-.94-2.06-.94-.94-2.06-.94 2.06-2.06.94z\"/><path d=\"M17.41 7.96l-1.37-1.37c-.4-.4-.92-.59-1.43-.59-.52 0-1.04.2-1.43.59L10.3 9.45l-7.72 7.72c-.78.78-.78 2.05 0 2.83L4 21.41c.39.39.9.59 1.41.59.51 0 1.02-.2 1.41-.59l7.78-7.78 2.81-2.81c.8-.78.8-2.07 0-2.86zM5.41 20L4 18.59l7.72-7.72 1.47 1.35L5.41 20z\"/>\n",
              "  </svg>\n",
              "      </button>\n",
              "      \n",
              "  <style>\n",
              "    .colab-df-container {\n",
              "      display:flex;\n",
              "      flex-wrap:wrap;\n",
              "      gap: 12px;\n",
              "    }\n",
              "\n",
              "    .colab-df-convert {\n",
              "      background-color: #E8F0FE;\n",
              "      border: none;\n",
              "      border-radius: 50%;\n",
              "      cursor: pointer;\n",
              "      display: none;\n",
              "      fill: #1967D2;\n",
              "      height: 32px;\n",
              "      padding: 0 0 0 0;\n",
              "      width: 32px;\n",
              "    }\n",
              "\n",
              "    .colab-df-convert:hover {\n",
              "      background-color: #E2EBFA;\n",
              "      box-shadow: 0px 1px 2px rgba(60, 64, 67, 0.3), 0px 1px 3px 1px rgba(60, 64, 67, 0.15);\n",
              "      fill: #174EA6;\n",
              "    }\n",
              "\n",
              "    [theme=dark] .colab-df-convert {\n",
              "      background-color: #3B4455;\n",
              "      fill: #D2E3FC;\n",
              "    }\n",
              "\n",
              "    [theme=dark] .colab-df-convert:hover {\n",
              "      background-color: #434B5C;\n",
              "      box-shadow: 0px 1px 3px 1px rgba(0, 0, 0, 0.15);\n",
              "      filter: drop-shadow(0px 1px 2px rgba(0, 0, 0, 0.3));\n",
              "      fill: #FFFFFF;\n",
              "    }\n",
              "  </style>\n",
              "\n",
              "      <script>\n",
              "        const buttonEl =\n",
              "          document.querySelector('#df-3170123e-526d-4df8-b228-0ae8cfc21012 button.colab-df-convert');\n",
              "        buttonEl.style.display =\n",
              "          google.colab.kernel.accessAllowed ? 'block' : 'none';\n",
              "\n",
              "        async function convertToInteractive(key) {\n",
              "          const element = document.querySelector('#df-3170123e-526d-4df8-b228-0ae8cfc21012');\n",
              "          const dataTable =\n",
              "            await google.colab.kernel.invokeFunction('convertToInteractive',\n",
              "                                                     [key], {});\n",
              "          if (!dataTable) return;\n",
              "\n",
              "          const docLinkHtml = 'Like what you see? Visit the ' +\n",
              "            '<a target=\"_blank\" href=https://colab.research.google.com/notebooks/data_table.ipynb>data table notebook</a>'\n",
              "            + ' to learn more about interactive tables.';\n",
              "          element.innerHTML = '';\n",
              "          dataTable['output_type'] = 'display_data';\n",
              "          await google.colab.output.renderOutput(dataTable, element);\n",
              "          const docLink = document.createElement('div');\n",
              "          docLink.innerHTML = docLinkHtml;\n",
              "          element.appendChild(docLink);\n",
              "        }\n",
              "      </script>\n",
              "    </div>\n",
              "  </div>\n",
              "  "
            ]
          },
          "metadata": {},
          "execution_count": 18
        }
      ]
    },
    {
      "cell_type": "code",
      "source": [
        "import pickle\n",
        "# Writing different model files to file\n",
        "with open( 'modelForPrediction1.sav', 'wb') as f:\n",
        "    pickle.dump(model,f)"
      ],
      "metadata": {
        "id": "trvaJTzNyTO2"
      },
      "execution_count": 19,
      "outputs": []
    },
    {
      "cell_type": "markdown",
      "source": [
        "**Test the model with any other data**"
      ],
      "metadata": {
        "id": "Nm_wtSNpgqN3"
      }
    },
    {
      "cell_type": "code",
      "source": [
        "filename = 'modelForPrediction1.sav'\n",
        "loaded_model = pickle.load(open(filename, 'rb')) # loading the model file from the storage\n",
        "\n",
        "feature=extract_feature(\"/content/drive/MyDrive/archive/audio_speech_actors_01-24/Actor_01/03-01-01-01-01-01-01.wav\", mfcc=True, chroma=True, mel=True)\n",
        "\n",
        "feature=feature.reshape(1,-1)\n",
        "\n",
        "prediction=loaded_model.predict(feature)\n",
        "prediction"
      ],
      "metadata": {
        "colab": {
          "base_uri": "https://localhost:8080/"
        },
        "id": "tSNiCx-dyYB-",
        "outputId": "8aff5f00-7d75-4cbd-b9a9-6b91b2cc5dff"
      },
      "execution_count": 20,
      "outputs": [
        {
          "output_type": "execute_result",
          "data": {
            "text/plain": [
              "array(['calm'], dtype='<U7')"
            ]
          },
          "metadata": {},
          "execution_count": 20
        }
      ]
    },
    {
      "cell_type": "code",
      "source": [
        "feature"
      ],
      "metadata": {
        "id": "2wXPUOPmy5Ni"
      },
      "execution_count": null,
      "outputs": []
    },
    {
      "cell_type": "code",
      "source": [
        "filename = 'modelForPrediction1.sav'\n",
        "loaded_model = pickle.load(open(filename, 'rb')) # loading the model file from the storage\n",
        "\n",
        "feature=extract_feature(\"/content/drive/MyDrive/archive/audio_speech_actors_01-24/Actor_10/03-01-02-01-01-01-10.wav\", mfcc=True, chroma=True, mel=True)\n",
        "\n",
        "feature=feature.reshape(1,-1)\n",
        "\n",
        "prediction=loaded_model.predict(feature)\n",
        "prediction"
      ],
      "metadata": {
        "colab": {
          "base_uri": "https://localhost:8080/"
        },
        "id": "WcCvdHAyysrA",
        "outputId": "48a9cd4a-0457-4201-b542-f89599054646"
      },
      "execution_count": 25,
      "outputs": [
        {
          "output_type": "execute_result",
          "data": {
            "text/plain": [
              "array(['happy'], dtype='<U7')"
            ]
          },
          "metadata": {},
          "execution_count": 25
        }
      ]
    },
    {
      "cell_type": "code",
      "source": [
        "feature"
      ],
      "metadata": {
        "id": "cFGvnW2iy2Dt"
      },
      "execution_count": null,
      "outputs": []
    }
  ]
}